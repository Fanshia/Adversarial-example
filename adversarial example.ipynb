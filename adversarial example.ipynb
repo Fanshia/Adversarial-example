{
 "cells": [
  {
   "cell_type": "code",
   "execution_count": 1,
   "metadata": {},
   "outputs": [],
   "source": [
    "import os\n",
    "dir_path=os.path.dirname(os.path.realpath('adversarial example'))\n",
    "os.chdir(dir_path)\n",
    "import tensorflow as tf\n",
    "import matplotlib.pyplot as plt\n",
    "import tensorflow.keras.backend as K\n",
    "%matplotlib inline\n",
    "import matplotlib as mpl\n",
    "import numpy as np"
   ]
  },
  {
   "cell_type": "code",
   "execution_count": 2,
   "metadata": {},
   "outputs": [],
   "source": [
    "# The classification model part is borrowed from \"Deep MNIST for Experts\" \n",
    "mnist= tf.keras.datasets.mnist\n",
    "(x_train,y_train),(x_test,y_test)=mnist.load_data()\n",
    "x_train,x_test=x_train/255.0,x_test/255.0"
   ]
  },
  {
   "cell_type": "code",
   "execution_count": 3,
   "metadata": {},
   "outputs": [
    {
     "name": "stdout",
     "output_type": "stream",
     "text": [
      "(60000, 28, 28)\n"
     ]
    },
    {
     "data": {
      "text/plain": [
       "<Figure size 432x288 with 0 Axes>"
      ]
     },
     "metadata": {},
     "output_type": "display_data"
    },
    {
     "data": {
      "image/png": "[encoded data removed]",
      "text/plain": [
       "<Figure size 216x216 with 1 Axes>"
      ]
     },
     "metadata": {},
     "output_type": "display_data"
    }
   ],
   "source": [
    "# Visualize the sample image\n",
    "print(x_train.shape)\n",
    "plt.clf()\n",
    "plt.figure(figsize=(3, 3))\n",
    "plt.imshow(x_train[0])\n",
    "plt.show()"
   ]
  },
  {
   "cell_type": "code",
   "execution_count": 4,
   "metadata": {},
   "outputs": [
    {
     "name": "stdout",
     "output_type": "stream",
     "text": [
      "Epoch 1/5\n",
      "60000/60000 [==============================] - 21s 352us/step - loss: 0.2220 - acc: 0.9348\n",
      "Epoch 2/5\n",
      "60000/60000 [==============================] - 21s 356us/step - loss: 0.0984 - acc: 0.9701\n",
      "Epoch 3/5\n",
      "60000/60000 [==============================] - 18s 307us/step - loss: 0.0698 - acc: 0.9781\n",
      "Epoch 4/5\n",
      "60000/60000 [==============================] - 19s 312us/step - loss: 0.0545 - acc: 0.9828\n",
      "Epoch 5/5\n",
      "60000/60000 [==============================] - 19s 321us/step - loss: 0.0441 - acc: 0.9855\n",
      "10000/10000 [==============================] - 1s 73us/step\n"
     ]
    },
    {
     "data": {
      "text/plain": [
       "[0.06587726678787148, 0.9798]"
      ]
     },
     "execution_count": 4,
     "metadata": {},
     "output_type": "execute_result"
    }
   ],
   "source": [
    "# build model, training the model\n",
    "model = tf.keras.models.Sequential([\n",
    "  tf.keras.layers.Flatten(),\n",
    "  tf.keras.layers.Dense(512, activation=tf.nn.relu),\n",
    "  tf.keras.layers.Dropout(0.2),\n",
    "  tf.keras.layers.Dense(10, activation=tf.nn.softmax)\n",
    "])\n",
    "model.compile(optimizer='adam',\n",
    "              loss='sparse_categorical_crossentropy',\n",
    "              metrics=['accuracy'])\n",
    "\n",
    "model.fit(x_train, y_train, epochs=5)\n",
    "model.evaluate(x_test, y_test)"
   ]
  },
  {
   "cell_type": "code",
   "execution_count": 79,
   "metadata": {},
   "outputs": [],
   "source": [
    "# Use \"The fast Gradient Sign Method\" introduced in https://www.youtube.com/watch?v=CIfsB_EYsVI at time 27.32 \n",
    "# Build a tensor for gradients (Jacobian matrix) of total_loss and model inputs\n",
    "gradients=model.optimizer.get_gradients(model.total_loss,model.inputs)\n",
    "\n",
    "# Set function to calculate the gradients, which is inspired by: The https://github.com/keras-team/keras/issues/2226\n",
    "input_tensors = model.inputs+model.sample_weights+model.targets+[K.learning_phase()]\n",
    "get_gradients=K.function(inputs=input_tensors,outputs=gradients)\n",
    "\n",
    "# Sample image whose label is 2\n",
    "two_index=np.where(y_test==2)[0]\n",
    "np.random.seed(11)\n",
    "sub_two_index=np.random.choice(two_index,10)\n",
    "ori_image=x_test[sub_two_index]\n",
    "ori_label=y_test[sub_two_index]\n"
   ]
  },
  {
   "cell_type": "code",
   "execution_count": 80,
   "metadata": {},
   "outputs": [
    {
     "data": {
      "image/png": "[encoded data removed]",
      "text/plain": [
       "<Figure size 180x180 with 1 Axes>"
      ]
     },
     "metadata": {},
     "output_type": "display_data"
    },
    {
     "data": {
      "image/png": "[encoded data removed]",
      "text/plain": [
       "<Figure size 180x180 with 1 Axes>"
      ]
     },
     "metadata": {},
     "output_type": "display_data"
    },
    {
     "data": {
      "image/png": "[encoded data removed]",
      "text/plain": [
       "<Figure size 180x180 with 1 Axes>"
      ]
     },
     "metadata": {},
     "output_type": "display_data"
    },
    {
     "data": {
      "image/png": "[encoded data removed]",
      "text/plain": [
       "<Figure size 180x180 with 1 Axes>"
      ]
     },
     "metadata": {},
     "output_type": "display_data"
    },
    {
     "data": {
      "image/png": "[encoded data removed]",
      "text/plain": [
       "<Figure size 180x180 with 1 Axes>"
      ]
     },
     "metadata": {},
     "output_type": "display_data"
    },
    {
     "data": {
      "image/png": "[encoded data removed]",
      "text/plain": [
       "<Figure size 180x180 with 1 Axes>"
      ]
     },
     "metadata": {},
     "output_type": "display_data"
    },
    {
     "data": {
      "image/png": "[encoded data removed]",
      "text/plain": [
       "<Figure size 180x180 with 1 Axes>"
      ]
     },
     "metadata": {},
     "output_type": "display_data"
    },
    {
     "data": {
      "image/png": "[encoded data removed]",
      "text/plain": [
       "<Figure size 180x180 with 1 Axes>"
      ]
     },
     "metadata": {},
     "output_type": "display_data"
    },
    {
     "data": {
      "image/png": "[encoded data removed]",
      "text/plain": [
       "<Figure size 180x180 with 1 Axes>"
      ]
     },
     "metadata": {},
     "output_type": "display_data"
    },
    {
     "data": {
      "image/png": "[encoded data removed]",
      "text/plain": [
       "<Figure size 180x180 with 1 Axes>"
      ]
     },
     "metadata": {},
     "output_type": "display_data"
    }
   ],
   "source": [
    "# Show the original images, correct, predicted label and confidence\n",
    "for i in range(0, 10):\n",
    "    plt.figure(figsize=(2, 2))\n",
    "    plt.axis('off')\n",
    "    plt.imshow(ori_image[i],cmap = \"gray\")\n",
    "    plt.show()"
   ]
  },
  {
   "cell_type": "code",
   "execution_count": 81,
   "metadata": {},
   "outputs": [
    {
     "name": "stdout",
     "output_type": "stream",
     "text": [
      "probability of 2 [0.9999956  0.999997   0.9996351  0.9808975  0.9999956  0.93147326\n",
      " 0.99998    0.9998211  0.99855167 0.99999976]\n",
      "probability of 6 [7.1823054e-14 1.3307031e-13 7.2160478e-09 1.5877821e-03 1.3952030e-07\n",
      " 6.3918604e-09 2.5983327e-10 3.0971997e-13 5.1546333e-05 4.6881219e-08]\n",
      "probability of 2 [1.         0.99999964 0.907927   0.23157531 0.9963085  0.45883912\n",
      " 0.9996474  0.9999906  0.74192464 0.9999304 ]\n",
      "probability of 6 [1.8522977e-18 6.4203054e-16 7.9253005e-06 6.2378442e-01 3.4218526e-03\n",
      " 2.2310339e-06 2.1222920e-08 4.1959602e-15 1.7383675e-01 1.0842785e-05]\n",
      "probability of 2 [1.0000000e+00 9.9987745e-01 2.7227101e-01 2.8025836e-04 1.8886652e-02\n",
      " 1.3837896e-01 9.8832840e-01 9.9738544e-01 1.3033304e-03 9.5874506e-01]\n",
      "probability of 6 [1.8522977e-18 1.2476491e-12 3.1782354e-03 9.9550444e-01 9.8007292e-01\n",
      " 3.0798276e-04 8.7893641e-06 1.9251604e-11 9.9126679e-01 3.6006279e-02]\n",
      "probability of 2 [1.0000000e+00 9.9995255e-01 1.1730283e-01 1.1646595e-06 6.0578185e-07\n",
      " 6.9257677e-02 8.8835627e-01 8.7406301e-01 3.1015243e-06 8.7772282e-03]\n",
      "probability of 6 [1.8522977e-18 8.7056213e-12 3.2476136e-01 9.9996507e-01 9.9999130e-01\n",
      " 1.3341502e-02 2.2112133e-03 1.6388215e-11 9.9999022e-01 9.8821926e-01]\n",
      "probability of 2 [1.0000000e+00 9.9989736e-01 1.6352637e-03 8.6885299e-09 1.2193102e-09\n",
      " 5.6860968e-02 2.7728677e-01 9.3735307e-01 2.7020279e-09 3.5885416e-06]\n",
      "probability of 6 [1.8522977e-18 8.0909522e-11 9.8817956e-01 1.0000000e+00 1.0000000e+00\n",
      " 2.3591214e-01 1.4861420e-01 1.3757914e-11 1.0000000e+00 9.9999321e-01]\n",
      "probability of 2 [1.0000000e+00 9.9459958e-01 1.0370238e-05 8.6885299e-09 1.2193102e-09\n",
      " 2.2142407e-02 2.1510573e-02 9.9987149e-01 2.7020279e-09 1.0575805e-09]\n",
      "probability of 6 [1.8522977e-18 1.3895833e-08 9.9995089e-01 1.0000000e+00 1.0000000e+00\n",
      " 6.6064256e-01 9.0127897e-01 1.0107550e-15 1.0000000e+00 1.0000000e+00]\n",
      "probability of 2 [1.0000000e+00 6.6832912e-01 4.7951715e-08 8.6885299e-09 1.2193102e-09\n",
      " 3.7984159e-03 8.4531878e-04 9.6850646e-01 2.7020279e-09 1.0575805e-09]\n",
      "probability of 6 [1.8522977e-18 4.9756522e-06 1.0000000e+00 1.0000000e+00 1.0000000e+00\n",
      " 9.4097364e-01 9.9721992e-01 1.2129203e-11 1.0000000e+00 1.0000000e+00]\n",
      "probability of 2 [1.0000000e+00 1.2034018e-01 4.7951715e-08 8.6885299e-09 1.2193102e-09\n",
      " 2.7417892e-04 2.6625359e-05 1.9538921e-01 2.7020279e-09 1.0575805e-09]\n",
      "probability of 6 [1.8522977e-18 7.3977537e-04 1.0000000e+00 1.0000000e+00 1.0000000e+00\n",
      " 9.9557811e-01 9.9994290e-01 3.1465451e-08 1.0000000e+00 1.0000000e+00]\n",
      "probability of 2 [1.0000000e+00 5.0049074e-02 4.7951715e-08 8.6885299e-09 1.2193102e-09\n",
      " 1.6483837e-05 1.4138917e-07 3.2691553e-02 2.7020279e-09 1.0575805e-09]\n",
      "probability of 6 [1.8522977e-18 4.6315487e-02 1.0000000e+00 1.0000000e+00 1.0000000e+00\n",
      " 9.9978346e-01 9.9999976e-01 5.2643474e-05 1.0000000e+00 1.0000000e+00]\n",
      "probability of 2 [1.0000000e+00 1.1635051e-02 4.7951715e-08 8.6885299e-09 1.2193102e-09\n",
      " 9.1509935e-07 2.8225325e-10 1.0732796e-01 2.7020279e-09 1.0575805e-09]\n",
      "probability of 6 [1.8522977e-18 6.6148233e-01 1.0000000e+00 1.0000000e+00 1.0000000e+00\n",
      " 9.9999595e-01 1.0000000e+00 6.9108687e-02 1.0000000e+00 1.0000000e+00]\n",
      "10\n"
     ]
    },
    {
     "data": {
      "text/plain": [
       "2"
      ]
     },
     "execution_count": 81,
     "metadata": {},
     "output_type": "execute_result"
    }
   ],
   "source": [
    "# Put into a loop with fixed learning rate (Epsilon in Fast Gradient sign method) = 0.0001\n",
    "\n",
    "\n",
    "adv_image=ori_image.copy()\n",
    "i=0\n",
    "\n",
    "#while not (np.argmax(model.predict(x),1)==6).all():\n",
    "while i<10:\n",
    "    inputs = [adv_image, # X\n",
    "              np.ones(len(adv_image)), # sample weights\n",
    "              [6 for i in ori_label], # y\n",
    "              0 # learning phase in TEST mode\n",
    "    ]\n",
    "    gradient=get_gradients(inputs)[0]\n",
    "    i+=1\n",
    "#    print(i,model.predict(x)[0])\n",
    "    print(\"probability of 2\",model.predict(adv_image)[:,2])\n",
    "    print(\"probability of 6\",model.predict(adv_image)[:,6])\n",
    "    adv_image=adv_image-0.03*np.sign(gradient)\n",
    "print(i)\n",
    "\n",
    "np.argmax(model.predict(adv_image)[0])"
   ]
  },
  {
   "cell_type": "code",
   "execution_count": 73,
   "metadata": {},
   "outputs": [
    {
     "name": "stdout",
     "output_type": "stream",
     "text": [
      "True label 2\n",
      "Predicted label: 6\n",
      "Confidence: 1.0\n"
     ]
    },
    {
     "data": {
      "image/png": "[encoded data removed]",
      "text/plain": [
       "<Figure size 180x180 with 1 Axes>"
      ]
     },
     "metadata": {},
     "output_type": "display_data"
    },
    {
     "name": "stdout",
     "output_type": "stream",
     "text": [
      "True label 2\n",
      "Predicted label: 6\n",
      "Confidence: 1.0\n"
     ]
    },
    {
     "data": {
      "image/png": "[encoded data removed]",
      "text/plain": [
       "<Figure size 180x180 with 1 Axes>"
      ]
     },
     "metadata": {},
     "output_type": "display_data"
    },
    {
     "name": "stdout",
     "output_type": "stream",
     "text": [
      "True label 2\n",
      "Predicted label: 6\n",
      "Confidence: 1.0\n"
     ]
    },
    {
     "data": {
      "image/png": "[encoded data removed]",
      "text/plain": [
       "<Figure size 180x180 with 1 Axes>"
      ]
     },
     "metadata": {},
     "output_type": "display_data"
    },
    {
     "name": "stdout",
     "output_type": "stream",
     "text": [
      "True label 2\n",
      "Predicted label: 6\n",
      "Confidence: 1.0\n"
     ]
    },
    {
     "data": {
      "image/png": "[encoded data removed]",
      "text/plain": [
       "<Figure size 180x180 with 1 Axes>"
      ]
     },
     "metadata": {},
     "output_type": "display_data"
    },
    {
     "name": "stdout",
     "output_type": "stream",
     "text": [
      "True label 2\n",
      "Predicted label: 2\n",
      "Confidence: 5.6058335e-16\n"
     ]
    },
    {
     "data": {
      "image/png": "[encoded data removed]",
      "text/plain": [
       "<Figure size 180x180 with 1 Axes>"
      ]
     },
     "metadata": {},
     "output_type": "display_data"
    },
    {
     "name": "stdout",
     "output_type": "stream",
     "text": [
      "True label 2\n",
      "Predicted label: 6\n",
      "Confidence: 1.0\n"
     ]
    },
    {
     "data": {
      "image/png": "[encoded data removed]",
      "text/plain": [
       "<Figure size 180x180 with 1 Axes>"
      ]
     },
     "metadata": {},
     "output_type": "display_data"
    },
    {
     "name": "stdout",
     "output_type": "stream",
     "text": [
      "True label 2\n",
      "Predicted label: 6\n",
      "Confidence: 1.0\n"
     ]
    },
    {
     "data": {
      "image/png": "[encoded data removed]",
      "text/plain": [
       "<Figure size 180x180 with 1 Axes>"
      ]
     },
     "metadata": {},
     "output_type": "display_data"
    },
    {
     "name": "stdout",
     "output_type": "stream",
     "text": [
      "True label 2\n",
      "Predicted label: 6\n",
      "Confidence: 1.0\n"
     ]
    },
    {
     "data": {
      "image/png": "[encoded data removed]",
      "text/plain": [
       "<Figure size 180x180 with 1 Axes>"
      ]
     },
     "metadata": {},
     "output_type": "display_data"
    },
    {
     "name": "stdout",
     "output_type": "stream",
     "text": [
      "True label 2\n",
      "Predicted label: 2\n",
      "Confidence: 9.467819e-14\n"
     ]
    },
    {
     "data": {
      "image/png": "[encoded data removed]",
      "text/plain": [
       "<Figure size 180x180 with 1 Axes>"
      ]
     },
     "metadata": {},
     "output_type": "display_data"
    },
    {
     "name": "stdout",
     "output_type": "stream",
     "text": [
      "True label 2\n",
      "Predicted label: 6\n",
      "Confidence: 1.0\n"
     ]
    },
    {
     "data": {
      "image/png": "[encoded data removed]",
      "text/plain": [
       "<Figure size 180x180 with 1 Axes>"
      ]
     },
     "metadata": {},
     "output_type": "display_data"
    }
   ],
   "source": [
    "#Visualize the image and its probability.\n",
    "for i in range(10):\n",
    "    print('True label', 2)\n",
    "    print('Predicted label:', np.argmax(model.predict(adv_image),1)[i])\n",
    "    print('Confidence:', model.predict(adv_image[i:i+1])[0][6])\n",
    "    plt.figure(figsize=(2, 2))\n",
    "    plt.axis('off')\n",
    "    plt.imshow(adv_image[i],cmap = \"gray\")\n",
    "    plt.show()"
   ]
  },
  {
   "cell_type": "code",
   "execution_count": null,
   "metadata": {},
   "outputs": [],
   "source": [
    "# Notice there are some failed adversarial example. I will get solution to deal with them later."
   ]
  },
  {
   "cell_type": "code",
   "execution_count": 74,
   "metadata": {},
   "outputs": [
    {
     "data": {
      "image/png": "[encoded data removed]",
      "text/plain": [
       "<Figure size 270x900 with 30 Axes>"
      ]
     },
     "metadata": {},
     "output_type": "display_data"
    }
   ],
   "source": [
    "# Return image that asked\n",
    "f, ax = plt.subplots(10, 3, figsize=(3,10))\n",
    "import matplotlib as mpl\n",
    "mpl.rcParams['figure.dpi']= 90\n",
    "for i in range(10):\n",
    "    for j in range(3):\n",
    "        ax[i,j].set_axis_off()\n",
    "    ax[i,0].imshow(ori_image[i], cmap = \"gray\")\n",
    "    ax[i,1].imshow(adv_image[i]-ori_image[i], cmap = \"gray\")\n",
    "    ax[i,2].imshow(adv_image[i], cmap=\"gray\")\n",
    "\n",
    "\n",
    "plt.tight_layout()\n",
    "plt.show()"
   ]
  },
  {
   "cell_type": "code",
   "execution_count": 10,
   "metadata": {},
   "outputs": [
    {
     "name": "stdout",
     "output_type": "stream",
     "text": [
      "[1.2072534e-13 1.4883760e-12 1.0000000e+00 4.1402967e-10 9.7286126e-09\n",
      " 4.2516362e-11 5.6643196e-10 9.2497017e-13 8.5313728e-13 1.1450551e-14]\n",
      "[[[0. 0. 0. 0. 0. 0. 0. 0. 0. 0. 0. 0. 0. 0. 0. 0. 0. 0. 0. 0. 0. 0. 0.\n",
      "   0. 0. 0. 0. 0.]\n",
      "  [0. 0. 0. 0. 0. 0. 0. 0. 0. 0. 0. 0. 0. 0. 0. 0. 0. 0. 0. 0. 0. 0. 0.\n",
      "   0. 0. 0. 0. 0.]\n",
      "  [0. 0. 0. 0. 0. 0. 0. 0. 0. 0. 0. 0. 0. 0. 0. 0. 0. 0. 0. 0. 0. 0. 0.\n",
      "   0. 0. 0. 0. 0.]\n",
      "  [0. 0. 0. 0. 0. 0. 0. 0. 0. 0. 0. 0. 0. 0. 0. 0. 0. 0. 0. 0. 0. 0. 0.\n",
      "   0. 0. 0. 0. 0.]\n",
      "  [0. 0. 0. 0. 0. 0. 0. 0. 0. 0. 0. 0. 0. 0. 0. 0. 0. 0. 0. 0. 0. 0. 0.\n",
      "   0. 0. 0. 0. 0.]\n",
      "  [0. 0. 0. 0. 0. 0. 0. 0. 0. 0. 0. 0. 0. 0. 0. 0. 0. 0. 0. 0. 0. 0. 0.\n",
      "   0. 0. 0. 0. 0.]\n",
      "  [0. 0. 0. 0. 0. 0. 0. 0. 0. 0. 0. 0. 0. 0. 0. 0. 0. 0. 0. 0. 0. 0. 0.\n",
      "   0. 0. 0. 0. 0.]\n",
      "  [0. 0. 0. 0. 0. 0. 0. 0. 0. 0. 0. 0. 0. 0. 0. 0. 0. 0. 0. 0. 0. 0. 0.\n",
      "   0. 0. 0. 0. 0.]\n",
      "  [0. 0. 0. 0. 0. 0. 0. 0. 0. 0. 0. 0. 0. 0. 0. 0. 0. 0. 0. 0. 0. 0. 0.\n",
      "   0. 0. 0. 0. 0.]\n",
      "  [0. 0. 0. 0. 0. 0. 0. 0. 0. 0. 0. 0. 0. 0. 0. 0. 0. 0. 0. 0. 0. 0. 0.\n",
      "   0. 0. 0. 0. 0.]\n",
      "  [0. 0. 0. 0. 0. 0. 0. 0. 0. 0. 0. 0. 0. 0. 0. 0. 0. 0. 0. 0. 0. 0. 0.\n",
      "   0. 0. 0. 0. 0.]\n",
      "  [0. 0. 0. 0. 0. 0. 0. 0. 0. 0. 0. 0. 0. 0. 0. 0. 0. 0. 0. 0. 0. 0. 0.\n",
      "   0. 0. 0. 0. 0.]\n",
      "  [0. 0. 0. 0. 0. 0. 0. 0. 0. 0. 0. 0. 0. 0. 0. 0. 0. 0. 0. 0. 0. 0. 0.\n",
      "   0. 0. 0. 0. 0.]\n",
      "  [0. 0. 0. 0. 0. 0. 0. 0. 0. 0. 0. 0. 0. 0. 0. 0. 0. 0. 0. 0. 0. 0. 0.\n",
      "   0. 0. 0. 0. 0.]\n",
      "  [0. 0. 0. 0. 0. 0. 0. 0. 0. 0. 0. 0. 0. 0. 0. 0. 0. 0. 0. 0. 0. 0. 0.\n",
      "   0. 0. 0. 0. 0.]\n",
      "  [0. 0. 0. 0. 0. 0. 0. 0. 0. 0. 0. 0. 0. 0. 0. 0. 0. 0. 0. 0. 0. 0. 0.\n",
      "   0. 0. 0. 0. 0.]\n",
      "  [0. 0. 0. 0. 0. 0. 0. 0. 0. 0. 0. 0. 0. 0. 0. 0. 0. 0. 0. 0. 0. 0. 0.\n",
      "   0. 0. 0. 0. 0.]\n",
      "  [0. 0. 0. 0. 0. 0. 0. 0. 0. 0. 0. 0. 0. 0. 0. 0. 0. 0. 0. 0. 0. 0. 0.\n",
      "   0. 0. 0. 0. 0.]\n",
      "  [0. 0. 0. 0. 0. 0. 0. 0. 0. 0. 0. 0. 0. 0. 0. 0. 0. 0. 0. 0. 0. 0. 0.\n",
      "   0. 0. 0. 0. 0.]\n",
      "  [0. 0. 0. 0. 0. 0. 0. 0. 0. 0. 0. 0. 0. 0. 0. 0. 0. 0. 0. 0. 0. 0. 0.\n",
      "   0. 0. 0. 0. 0.]\n",
      "  [0. 0. 0. 0. 0. 0. 0. 0. 0. 0. 0. 0. 0. 0. 0. 0. 0. 0. 0. 0. 0. 0. 0.\n",
      "   0. 0. 0. 0. 0.]\n",
      "  [0. 0. 0. 0. 0. 0. 0. 0. 0. 0. 0. 0. 0. 0. 0. 0. 0. 0. 0. 0. 0. 0. 0.\n",
      "   0. 0. 0. 0. 0.]\n",
      "  [0. 0. 0. 0. 0. 0. 0. 0. 0. 0. 0. 0. 0. 0. 0. 0. 0. 0. 0. 0. 0. 0. 0.\n",
      "   0. 0. 0. 0. 0.]\n",
      "  [0. 0. 0. 0. 0. 0. 0. 0. 0. 0. 0. 0. 0. 0. 0. 0. 0. 0. 0. 0. 0. 0. 0.\n",
      "   0. 0. 0. 0. 0.]\n",
      "  [0. 0. 0. 0. 0. 0. 0. 0. 0. 0. 0. 0. 0. 0. 0. 0. 0. 0. 0. 0. 0. 0. 0.\n",
      "   0. 0. 0. 0. 0.]\n",
      "  [0. 0. 0. 0. 0. 0. 0. 0. 0. 0. 0. 0. 0. 0. 0. 0. 0. 0. 0. 0. 0. 0. 0.\n",
      "   0. 0. 0. 0. 0.]\n",
      "  [0. 0. 0. 0. 0. 0. 0. 0. 0. 0. 0. 0. 0. 0. 0. 0. 0. 0. 0. 0. 0. 0. 0.\n",
      "   0. 0. 0. 0. 0.]\n",
      "  [0. 0. 0. 0. 0. 0. 0. 0. 0. 0. 0. 0. 0. 0. 0. 0. 0. 0. 0. 0. 0. 0. 0.\n",
      "   0. 0. 0. 0. 0.]]]\n"
     ]
    }
   ],
   "source": [
    "#Analyst the result:\n",
    "# 1.\n",
    "# A problem is found that, if an image have prediction probability of 2 = 1\n",
    "# The gradient of this image to other classes will be 0\n",
    "# so no matter how many time the loop goes, the algorithm can't make any change to the original picture, so that \n",
    "# no adversarial example will be generated\n",
    "for i in two_index:\n",
    "    if model.predict(x_test[i:i+1])[0][2]==1:\n",
    "        k=i\n",
    "        break\n",
    "    if i==two_index[-1]:\n",
    "        print(\"there is no qualified example in this model, you should re-train the model\")\n",
    "inputs = [x_test[k:k+1],np.ones(1),[6],0]\n",
    "gradient=get_gradients(inputs)[0]\n",
    "print(model.predict(x_test[k:k+1])[0])\n",
    "print(gradient)"
   ]
  },
  {
   "cell_type": "code",
   "execution_count": 11,
   "metadata": {},
   "outputs": [
    {
     "name": "stdout",
     "output_type": "stream",
     "text": [
      "probability of 2 [0.9989484  0.9999988  0.99983335 0.9991817  0.99999416 0.99909866\n",
      " 0.9782215  0.9999738  1.         0.999559  ]\n",
      "probability of 6 [3.3559093e-11 3.0509620e-10 1.5142751e-12 1.0726539e-09 1.8496376e-12\n",
      " 3.3237617e-09 6.6317585e-07 6.8074271e-09 9.4677833e-14 3.1915741e-04]\n",
      "probability of 2 [0.989897   0.99997365 0.96122384 0.82873    1.         0.9981294\n",
      " 0.4405327  0.97996557 1.         0.01620271]\n",
      "probability of 6 [1.6133205e-08 1.1022011e-08 1.3163929e-08 7.0299485e-08 5.6058335e-16\n",
      " 3.2570611e-07 2.5252709e-03 2.1726248e-06 9.4677833e-14 9.7973263e-01]\n",
      "probability of 2 [9.30910826e-01 9.95915353e-01 5.03063858e-01 1.13428295e-01\n",
      " 1.00000000e+00 9.40335691e-01 7.08744526e-02 4.61934209e-01\n",
      " 1.00000000e+00 1.98613421e-07]\n",
      "probability of 6 [4.6699952e-06 5.7876855e-06 1.1671166e-06 1.2696387e-05 5.6058335e-16\n",
      " 6.5746217e-04 4.8211339e-01 9.2196779e-04 9.4677833e-14 9.9992585e-01]\n",
      "probability of 2 [4.0697628e-01 8.3459651e-01 2.0956621e-02 2.8024432e-01 1.0000000e+00\n",
      " 2.4155483e-01 2.4997524e-04 3.8715169e-01 1.0000000e+00 3.2569292e-10]\n",
      "probability of 6 [1.6003337e-03 7.1435990e-03 2.5501981e-04 1.4445239e-02 5.6058335e-16\n",
      " 1.5021406e-01 9.9893409e-01 8.5399963e-02 9.4677833e-14 9.9999988e-01]\n",
      "probability of 2 [1.11379735e-01 8.02346393e-02 1.62297841e-02 7.18505904e-02\n",
      " 1.00000000e+00 1.07741393e-02 8.58311253e-08 7.60997087e-02\n",
      " 1.00000000e+00 9.29674496e-14]\n",
      "probability of 6 [1.3573511e-01 5.4481661e-01 5.1045470e-02 7.8801262e-01 5.6058335e-16\n",
      " 9.6887302e-01 9.9999940e-01 8.7277544e-01 9.4677833e-14 1.0000000e+00]\n",
      "probability of 2 [1.0830043e-02 1.5398231e-03 1.3252046e-03 4.2770259e-04 1.0000000e+00\n",
      " 2.3284063e-05 1.4223478e-10 3.5582521e-04 1.0000000e+00 9.2967450e-14]\n",
      "probability of 6 [9.5394862e-01 9.8914391e-01 8.4523100e-01 9.9892384e-01 5.6058335e-16\n",
      " 9.9981338e-01 1.0000000e+00 9.9836546e-01 9.4677833e-14 1.0000000e+00]\n",
      "probability of 2 [2.8951375e-05 2.0516065e-05 6.2182007e-06 2.8192253e-06 1.0000000e+00\n",
      " 8.9497753e-08 1.4223478e-10 4.7218832e-06 1.0000000e+00 9.2967450e-14]\n",
      "probability of 6 [9.9979132e-01 9.9985468e-01 9.9477094e-01 9.9999475e-01 5.6058335e-16\n",
      " 9.9999928e-01 1.0000000e+00 9.9998760e-01 9.4677833e-14 1.0000000e+00]\n",
      "probability of 2 [1.7083822e-08 1.5970420e-07 4.1125737e-08 5.8674821e-09 1.0000000e+00\n",
      " 8.8907853e-10 1.4223478e-10 1.7071738e-08 1.0000000e+00 9.2967450e-14]\n",
      "probability of 6 [9.9999988e-01 9.9999893e-01 9.9983048e-01 1.0000000e+00 5.6058335e-16\n",
      " 1.0000000e+00 1.0000000e+00 9.9999988e-01 9.4677833e-14 1.0000000e+00]\n",
      "probability of 2 [2.4639317e-11 7.9198997e-10 2.6478730e-10 5.8674821e-09 1.0000000e+00\n",
      " 8.8907853e-10 1.4223478e-10 3.0210051e-10 1.0000000e+00 9.2967450e-14]\n",
      "probability of 6 [1.0000000e+00 1.0000000e+00 9.9999547e-01 1.0000000e+00 5.6058335e-16\n",
      " 1.0000000e+00 1.0000000e+00 1.0000000e+00 9.4677833e-14 1.0000000e+00]\n",
      "probability of 2 [2.4639317e-11 7.9198997e-10 8.9711268e-12 5.8674821e-09 1.0000000e+00\n",
      " 8.8907853e-10 1.4223478e-10 3.0210051e-10 1.0000000e+00 9.2967450e-14]\n",
      "probability of 6 [1.0000000e+00 1.0000000e+00 1.0000000e+00 1.0000000e+00 5.6058335e-16\n",
      " 1.0000000e+00 1.0000000e+00 1.0000000e+00 9.4677833e-14 1.0000000e+00]\n",
      "number of iteration: 10\n"
     ]
    }
   ],
   "source": [
    "# for example:\n",
    "np.random.seed(1)\n",
    "two_index=np.where(y_test==2)[0]\n",
    "sub_two_index=np.random.choice(two_index,10)\n",
    "ori_image=x_test[sub_two_index]\n",
    "ori_label=y_test[sub_two_index]\n",
    "\n",
    "adv_image=ori_image.copy()\n",
    "i=0\n",
    "while i<10:\n",
    "    inputs = [adv_image, # X\n",
    "              np.ones(len(adv_image)), # sample weights\n",
    "              [6 for i in ori_label], # y\n",
    "              0 # learning phase in TEST mode\n",
    "    ]\n",
    "    gradient=get_gradients(inputs)[0]\n",
    "    i+=1\n",
    "    print(\"probability of 2\",model.predict(adv_image)[:,2])\n",
    "    print(\"probability of 6\",model.predict(adv_image)[:,6])\n",
    "    adv_image=adv_image-0.03*np.sign(gradient)\n",
    "print('number of iteration:',i)"
   ]
  },
  {
   "cell_type": "code",
   "execution_count": 13,
   "metadata": {},
   "outputs": [
    {
     "name": "stdout",
     "output_type": "stream",
     "text": [
      "probability of 2 [0.9989484  0.9999988  0.99983335 0.9991817  0.99999416 0.99909866\n",
      " 0.9782215  0.9999738  1.         0.999559  ]\n",
      "probability of 6 [3.3559093e-11 3.0509620e-10 1.5142751e-12 1.0726539e-09 1.8496376e-12\n",
      " 3.3237617e-09 6.6317585e-07 6.8074271e-09 9.4677833e-14 3.1915741e-04]\n",
      "probability of 2 [0.99056226 0.9999639  0.9420645  0.8439945  1.         0.9979594\n",
      " 0.4405327  0.97962415 0.9999999  0.01494606]\n",
      "probability of 6 [2.3303365e-08 2.3451785e-08 3.0871131e-08 2.8028634e-07 9.7778942e-16\n",
      " 4.6593496e-07 2.5252709e-03 2.9765035e-06 3.2062162e-13 9.7961217e-01]\n",
      "probability of 2 [9.3987185e-01 9.9973851e-01 4.9334753e-01 3.5615823e-01 1.0000000e+00\n",
      " 9.5573115e-01 7.0874453e-02 4.5967746e-01 9.9996591e-01 3.6805210e-07]\n",
      "probability of 6 [6.6682833e-06 1.9394533e-05 4.2107731e-06 5.4555468e-04 1.3478510e-15\n",
      " 6.4683449e-04 4.8211339e-01 1.0750308e-03 2.7239739e-09 9.9991632e-01]\n",
      "probability of 2 [5.5071950e-01 9.5012653e-01 2.6380686e-02 3.3855087e-01 1.0000000e+00\n",
      " 3.3374721e-01 2.4997524e-04 3.3893752e-01 9.9493557e-01 6.5475808e-10]\n",
      "probability of 6 [1.5079356e-03 2.8960120e-02 8.8141346e-04 1.4022489e-01 2.4016772e-15\n",
      " 1.4217204e-01 9.9893409e-01 8.8432282e-02 2.6785488e-06 9.9999988e-01]\n",
      "probability of 2 [1.7104919e-01 5.6905705e-02 2.0010997e-02 1.0307787e-02 1.0000000e+00\n",
      " 1.0410250e-02 8.5831125e-08 7.8470126e-02 8.6778235e-01 8.3981129e-13]\n",
      "probability of 6 [8.5084505e-02 9.0049034e-01 1.2377652e-01 9.7433054e-01 3.6916732e-15\n",
      " 9.6596229e-01 9.9999940e-01 8.6501008e-01 2.7529502e-03 1.0000000e+00]\n",
      "probability of 2 [3.3984680e-02 3.7658450e-04 8.5044943e-04 6.3778629e-05 1.0000000e+00\n",
      " 4.5011435e-05 1.4223478e-10 4.6507857e-04 1.5258279e-01 8.3981129e-13]\n",
      "probability of 6 [8.6499941e-01 9.9855036e-01 9.0731657e-01 9.9989414e-01 5.3808280e-15\n",
      " 9.9976784e-01 1.0000000e+00 9.9811435e-01 2.1609640e-01 1.0000000e+00]\n",
      "probability of 2 [2.6021423e-04 4.2904517e-06 3.9880783e-06 1.9452489e-07 1.0000000e+00\n",
      " 2.4100311e-07 1.4223478e-10 5.3829640e-06 7.1393163e-03 8.3981129e-13]\n",
      "probability of 6 [9.9910980e-01 9.9997890e-01 9.9629456e-01 9.9999964e-01 9.9862050e-15\n",
      " 9.9999881e-01 1.0000000e+00 9.9998415e-01 9.3720406e-01 1.0000000e+00]\n",
      "probability of 2 [3.8307607e-07 1.1905003e-07 2.5768292e-08 8.7493700e-11 1.0000000e+00\n",
      " 1.1771751e-09 1.4223478e-10 2.5560151e-08 1.2523531e-04 8.3981129e-13]\n",
      "probability of 6 [9.99997854e-01 9.99999762e-01 9.99885559e-01 1.00000000e+00\n",
      " 1.17655485e-14 1.00000000e+00 1.00000000e+00 9.99999881e-01\n",
      " 9.99039292e-01 1.00000000e+00]\n",
      "probability of 2 [2.5016939e-10 2.7320265e-10 2.1506166e-10 8.7493700e-11 1.0000000e+00\n",
      " 1.1771751e-09 1.4223478e-10 3.3235492e-10 8.9568874e-07 8.3981129e-13]\n",
      "probability of 6 [1.0000000e+00 1.0000000e+00 9.9999738e-01 1.0000000e+00 1.2403736e-14\n",
      " 1.0000000e+00 1.0000000e+00 1.0000000e+00 9.9999297e-01 1.0000000e+00]\n",
      "probability of 2 [2.5016939e-10 2.7320265e-10 4.5215871e-12 8.7493700e-11 9.9999988e-01\n",
      " 1.1771751e-09 1.4223478e-10 3.3235492e-10 3.6090018e-09 8.3981129e-13]\n",
      "probability of 6 [1.0000000e+00 1.0000000e+00 1.0000000e+00 1.0000000e+00 1.4110499e-14\n",
      " 1.0000000e+00 1.0000000e+00 1.0000000e+00 1.0000000e+00 1.0000000e+00]\n",
      "probability of 2 [2.5016939e-10 2.7320265e-10 4.5215871e-12 8.7493700e-11 9.9994779e-01\n",
      " 1.1771751e-09 1.4223478e-10 3.3235492e-10 3.6090018e-09 8.3981129e-13]\n",
      "probability of 6 [1.0000000e+00 1.0000000e+00 1.0000000e+00 1.0000000e+00 7.0146627e-12\n",
      " 1.0000000e+00 1.0000000e+00 1.0000000e+00 1.0000000e+00 1.0000000e+00]\n",
      "probability of 2 [2.5016939e-10 2.7320265e-10 4.5215871e-12 8.7493700e-11 9.9988103e-01\n",
      " 1.1771751e-09 1.4223478e-10 3.3235492e-10 3.6090018e-09 8.3981129e-13]\n",
      "probability of 6 [1.000000e+00 1.000000e+00 1.000000e+00 1.000000e+00 1.621882e-10\n",
      " 1.000000e+00 1.000000e+00 1.000000e+00 1.000000e+00 1.000000e+00]\n",
      "probability of 2 [2.5016939e-10 2.7320265e-10 4.5215871e-12 8.7493700e-11 9.9999905e-01\n",
      " 1.1771751e-09 1.4223478e-10 3.3235492e-10 3.6090018e-09 8.3981129e-13]\n",
      "probability of 6 [1.0000000e+00 1.0000000e+00 1.0000000e+00 1.0000000e+00 3.3864426e-13\n",
      " 1.0000000e+00 1.0000000e+00 1.0000000e+00 1.0000000e+00 1.0000000e+00]\n",
      "probability of 2 [2.5016939e-10 2.7320265e-10 4.5215871e-12 8.7493700e-11 9.9999070e-01\n",
      " 1.1771751e-09 1.4223478e-10 3.3235492e-10 3.6090018e-09 8.3981129e-13]\n",
      "probability of 6 [1.0000000e+00 1.0000000e+00 1.0000000e+00 1.0000000e+00 5.1929233e-12\n",
      " 1.0000000e+00 1.0000000e+00 1.0000000e+00 1.0000000e+00 1.0000000e+00]\n",
      "probability of 2 [2.5016939e-10 2.7320265e-10 4.5215871e-12 8.7493700e-11 9.9998760e-01\n",
      " 1.1771751e-09 1.4223478e-10 3.3235492e-10 3.6090018e-09 8.3981129e-13]\n",
      "probability of 6 [1.0000000e+00 1.0000000e+00 1.0000000e+00 1.0000000e+00 4.0885597e-11\n",
      " 1.0000000e+00 1.0000000e+00 1.0000000e+00 1.0000000e+00 1.0000000e+00]\n",
      "probability of 2 [2.5016939e-10 2.7320265e-10 4.5215871e-12 8.7493700e-11 9.9998486e-01\n",
      " 1.1771751e-09 1.4223478e-10 3.3235492e-10 3.6090018e-09 8.3981129e-13]\n",
      "probability of 6 [1.0000000e+00 1.0000000e+00 1.0000000e+00 1.0000000e+00 1.0587143e-10\n",
      " 1.0000000e+00 1.0000000e+00 1.0000000e+00 1.0000000e+00 1.0000000e+00]\n",
      "probability of 2 [2.5016939e-10 2.7320265e-10 4.5215871e-12 8.7493700e-11 1.0000000e+00\n",
      " 1.1771751e-09 1.4223478e-10 3.3235492e-10 3.6090018e-09 8.3981129e-13]\n",
      "probability of 6 [1.0000000e+00 1.0000000e+00 1.0000000e+00 1.0000000e+00 3.6635143e-13\n",
      " 1.0000000e+00 1.0000000e+00 1.0000000e+00 1.0000000e+00 1.0000000e+00]\n",
      "probability of 2 [2.5016939e-10 2.7320265e-10 4.5215871e-12 8.7493700e-11 9.9999988e-01\n",
      " 1.1771751e-09 1.4223478e-10 3.3235492e-10 3.6090018e-09 8.3981129e-13]\n",
      "probability of 6 [1.0000000e+00 1.0000000e+00 1.0000000e+00 1.0000000e+00 3.7402118e-13\n",
      " 1.0000000e+00 1.0000000e+00 1.0000000e+00 1.0000000e+00 1.0000000e+00]\n",
      "probability of 2 [2.5016939e-10 2.7320265e-10 4.5215871e-12 8.7493700e-11 9.9997532e-01\n",
      " 1.1771751e-09 1.4223478e-10 3.3235492e-10 3.6090018e-09 8.3981129e-13]\n",
      "probability of 6 [1.000000e+00 1.000000e+00 1.000000e+00 1.000000e+00 6.392941e-11\n",
      " 1.000000e+00 1.000000e+00 1.000000e+00 1.000000e+00 1.000000e+00]\n",
      "probability of 2 [2.5016939e-10 2.7320265e-10 4.5215871e-12 8.7493700e-11 9.9994707e-01\n",
      " 1.1771751e-09 1.4223478e-10 3.3235492e-10 3.6090018e-09 8.3981129e-13]\n",
      "probability of 6 [1.0000000e+00 1.0000000e+00 1.0000000e+00 1.0000000e+00 2.1357938e-09\n",
      " 1.0000000e+00 1.0000000e+00 1.0000000e+00 1.0000000e+00 1.0000000e+00]\n",
      "probability of 2 [2.5016939e-10 2.7320265e-10 4.5215871e-12 8.7493700e-11 9.9999952e-01\n",
      " 1.1771751e-09 1.4223478e-10 3.3235492e-10 3.6090018e-09 8.3981129e-13]\n",
      "probability of 6 [1.0000000e+00 1.0000000e+00 1.0000000e+00 1.0000000e+00 1.0575446e-11\n",
      " 1.0000000e+00 1.0000000e+00 1.0000000e+00 1.0000000e+00 1.0000000e+00]\n",
      "probability of 2 [2.5016939e-10 2.7320265e-10 4.5215871e-12 8.7493700e-11 9.9999690e-01\n",
      " 1.1771751e-09 1.4223478e-10 3.3235492e-10 3.6090018e-09 8.3981129e-13]\n",
      "probability of 6 [1.0000000e+00 1.0000000e+00 1.0000000e+00 1.0000000e+00 7.3650995e-11\n",
      " 1.0000000e+00 1.0000000e+00 1.0000000e+00 1.0000000e+00 1.0000000e+00]\n",
      "probability of 2 [2.5016939e-10 2.7320265e-10 4.5215871e-12 8.7493700e-11 9.9975628e-01\n",
      " 1.1771751e-09 1.4223478e-10 3.3235492e-10 3.6090018e-09 8.3981129e-13]\n",
      "probability of 6 [1.000000e+00 1.000000e+00 1.000000e+00 1.000000e+00 9.629186e-09\n",
      " 1.000000e+00 1.000000e+00 1.000000e+00 1.000000e+00 1.000000e+00]\n",
      "probability of 2 [2.5016939e-10 2.7320265e-10 4.5215871e-12 8.7493700e-11 9.9999750e-01\n",
      " 1.1771751e-09 1.4223478e-10 3.3235492e-10 3.6090018e-09 8.3981129e-13]\n",
      "probability of 6 [1.0000000e+00 1.0000000e+00 1.0000000e+00 1.0000000e+00 9.0152434e-11\n",
      " 1.0000000e+00 1.0000000e+00 1.0000000e+00 1.0000000e+00 1.0000000e+00]\n",
      "probability of 2 [2.5016939e-10 2.7320265e-10 4.5215871e-12 8.7493700e-11 9.9980420e-01\n",
      " 1.1771751e-09 1.4223478e-10 3.3235492e-10 3.6090018e-09 8.3981129e-13]\n",
      "probability of 6 [1.0000000e+00 1.0000000e+00 1.0000000e+00 1.0000000e+00 1.2491723e-08\n",
      " 1.0000000e+00 1.0000000e+00 1.0000000e+00 1.0000000e+00 1.0000000e+00]\n",
      "probability of 2 [2.5016939e-10 2.7320265e-10 4.5215871e-12 8.7493700e-11 9.9959189e-01\n",
      " 1.1771751e-09 1.4223478e-10 3.3235492e-10 3.6090018e-09 8.3981129e-13]\n",
      "probability of 6 [1.0000000e+00 1.0000000e+00 1.0000000e+00 1.0000000e+00 4.7937294e-07\n",
      " 1.0000000e+00 1.0000000e+00 1.0000000e+00 1.0000000e+00 1.0000000e+00]\n",
      "probability of 2 [2.5016939e-10 2.7320265e-10 4.5215871e-12 8.7493700e-11 9.8144907e-01\n",
      " 1.1771751e-09 1.4223478e-10 3.3235492e-10 3.6090018e-09 8.3981129e-13]\n"
     ]
    },
    {
     "name": "stdout",
     "output_type": "stream",
     "text": [
      "probability of 6 [1.0000000e+00 1.0000000e+00 1.0000000e+00 1.0000000e+00 1.9263782e-04\n",
      " 1.0000000e+00 1.0000000e+00 1.0000000e+00 1.0000000e+00 1.0000000e+00]\n",
      "probability of 2 [2.5016939e-10 2.7320265e-10 4.5215871e-12 8.7493700e-11 5.0012851e-01\n",
      " 1.1771751e-09 1.4223478e-10 3.3235492e-10 3.6090018e-09 8.3981129e-13]\n",
      "probability of 6 [1.         1.         1.         1.         0.05693683 1.\n",
      " 1.         1.         1.         1.        ]\n",
      "28\n",
      "probability of 6 [1.        1.        1.        1.        0.7210832 1.        1.\n",
      " 1.        1.        1.       ]\n"
     ]
    }
   ],
   "source": [
    "#To solve this problem, I add a random noise to the image which has predict probability > 0.99, which solved the problem. \n",
    "\n",
    "\n",
    "adv_image2=ori_image.copy()\n",
    "i=0\n",
    "while not (np.argmax(model.predict(adv_image2),1)==6).all() and i<40:\n",
    "#while i<20:\n",
    "    inputs = [adv_image2, # X\n",
    "              np.ones(len(adv_image2)), # sample weights\n",
    "              [6 for i in ori_label], # y\n",
    "              0 # learning phase in TEST mode\n",
    "    ]\n",
    "    gradient=get_gradients(inputs)[0]\n",
    "    i+=1\n",
    "#    print(i,model.predict(x[0:1]))\n",
    "    print(\"probability of 2\",model.predict(adv_image2)[:,2])\n",
    "    print(\"probability of 6\",model.predict(adv_image2)[:,6])\n",
    "# add random noise if predict probability > 0.99\n",
    "    for j in range(len(adv_image2)):\n",
    "        if model.predict(adv_image2)[:,2][j]>0.99:\n",
    "            adv_image2[j]=adv_image2[j]+0.03*np.random.rand(adv_image2[j].shape[0],adv_image2[j].shape[1])\n",
    "    adv_image2=adv_image2-0.03*np.sign(gradient)\n",
    "print(i)\n",
    "\n",
    "print(\"probability of 6\",model.predict(adv_image2)[:,6])"
   ]
  },
  {
   "cell_type": "code",
   "execution_count": 14,
   "metadata": {},
   "outputs": [
    {
     "name": "stdout",
     "output_type": "stream",
     "text": [
      "Correct label 2\n",
      "Predicted label: 6\n",
      "Confidence: 1.0\n"
     ]
    },
    {
     "data": {
      "image/png": "[encoded data removed]",
      "text/plain": [
       "<Figure size 180x180 with 1 Axes>"
      ]
     },
     "metadata": {},
     "output_type": "display_data"
    },
    {
     "name": "stdout",
     "output_type": "stream",
     "text": [
      "Correct label 2\n",
      "Predicted label: 6\n",
      "Confidence: 1.0\n"
     ]
    },
    {
     "data": {
      "image/png": "[encoded data removed]",
      "text/plain": [
       "<Figure size 180x180 with 1 Axes>"
      ]
     },
     "metadata": {},
     "output_type": "display_data"
    },
    {
     "name": "stdout",
     "output_type": "stream",
     "text": [
      "Correct label 2\n",
      "Predicted label: 6\n",
      "Confidence: 1.0\n"
     ]
    },
    {
     "data": {
      "image/png": "[encoded data removed]",
      "text/plain": [
       "<Figure size 180x180 with 1 Axes>"
      ]
     },
     "metadata": {},
     "output_type": "display_data"
    },
    {
     "name": "stdout",
     "output_type": "stream",
     "text": [
      "Correct label 2\n",
      "Predicted label: 6\n",
      "Confidence: 1.0\n"
     ]
    },
    {
     "data": {
      "image/png": "[encoded data removed]",
      "text/plain": [
       "<Figure size 180x180 with 1 Axes>"
      ]
     },
     "metadata": {},
     "output_type": "display_data"
    },
    {
     "name": "stdout",
     "output_type": "stream",
     "text": [
      "Correct label 2\n",
      "Predicted label: 6\n",
      "Confidence: 0.72108334\n"
     ]
    },
    {
     "data": {
      "image/png": "[encoded data removed]",
      "text/plain": [
       "<Figure size 180x180 with 1 Axes>"
      ]
     },
     "metadata": {},
     "output_type": "display_data"
    },
    {
     "name": "stdout",
     "output_type": "stream",
     "text": [
      "Correct label 2\n",
      "Predicted label: 6\n",
      "Confidence: 1.0\n"
     ]
    },
    {
     "data": {
      "image/png": "[encoded data removed]",
      "text/plain": [
       "<Figure size 180x180 with 1 Axes>"
      ]
     },
     "metadata": {},
     "output_type": "display_data"
    },
    {
     "name": "stdout",
     "output_type": "stream",
     "text": [
      "Correct label 2\n",
      "Predicted label: 6\n",
      "Confidence: 1.0\n"
     ]
    },
    {
     "data": {
      "image/png": "[encoded data removed]",
      "text/plain": [
       "<Figure size 180x180 with 1 Axes>"
      ]
     },
     "metadata": {},
     "output_type": "display_data"
    },
    {
     "name": "stdout",
     "output_type": "stream",
     "text": [
      "Correct label 2\n",
      "Predicted label: 6\n",
      "Confidence: 1.0\n"
     ]
    },
    {
     "data": {
      "image/png": "[encoded data removed]",
      "text/plain": [
       "<Figure size 180x180 with 1 Axes>"
      ]
     },
     "metadata": {},
     "output_type": "display_data"
    },
    {
     "name": "stdout",
     "output_type": "stream",
     "text": [
      "Correct label 2\n",
      "Predicted label: 6\n",
      "Confidence: 1.0\n"
     ]
    },
    {
     "data": {
      "image/png": "[encoded data removed]",
      "text/plain": [
       "<Figure size 180x180 with 1 Axes>"
      ]
     },
     "metadata": {},
     "output_type": "display_data"
    },
    {
     "name": "stdout",
     "output_type": "stream",
     "text": [
      "Correct label 2\n",
      "Predicted label: 6\n",
      "Confidence: 1.0\n"
     ]
    },
    {
     "data": {
      "image/png": "[encoded data removed]",
      "text/plain": [
       "<Figure size 180x180 with 1 Axes>"
      ]
     },
     "metadata": {},
     "output_type": "display_data"
    }
   ],
   "source": [
    "#Visualize the image and its probability.\n",
    "for i in range(10):\n",
    "    print('Correct label', 2)\n",
    "    print('Predicted label:', np.argmax(model.predict(adv_image2),1)[i])\n",
    "    print('Confidence:', model.predict(adv_image2[i:i+1])[0][6])\n",
    "    plt.figure(figsize=(2, 2))\n",
    "    plt.axis('off')\n",
    "    plt.imshow(adv_image2[i],cmap = \"gray\")\n",
    "    plt.show()"
   ]
  },
  {
   "cell_type": "code",
   "execution_count": 75,
   "metadata": {},
   "outputs": [
    {
     "data": {
      "image/png": "[encoded data removed]",
      "text/plain": [
       "<Figure size 270x900 with 30 Axes>"
      ]
     },
     "metadata": {},
     "output_type": "display_data"
    }
   ],
   "source": [
    "# Return image that asked\n",
    "f, ax = plt.subplots(10, 3, figsize=(3,10))\n",
    "import matplotlib as mpl\n",
    "mpl.rcParams['figure.dpi']= 90\n",
    "for i in range(10):\n",
    "    ax[i,0].set_axis_off()\n",
    "    ax[i,1].set_axis_off()\n",
    "    ax[i,2].set_axis_off()\n",
    "    ax[i,0].imshow(ori_image[i], cmap = \"gray\")\n",
    "    ax[i,1].imshow(adv_image2[i]-ori_image[i], cmap = \"gray\")\n",
    "    ax[i,2].imshow(adv_image2[i], cmap=\"gray\")\n",
    "\n",
    "\n",
    "plt.tight_layout()\n",
    "plt.show()\n",
    "f.savefig(\"result.png\")"
   ]
  },
  {
   "cell_type": "code",
   "execution_count": null,
   "metadata": {},
   "outputs": [],
   "source": [
    "from keras import initializations\n",
    "\n",
    "def my_init(shape, name=None):\n",
    "    return initializations.normal(shape, scale=0.01, name=name)\n",
    "\n",
    "model.add(Dense(64, init=my_init))"
   ]
  },
  {
   "cell_type": "code",
   "execution_count": 47,
   "metadata": {},
   "outputs": [
    {
     "name": "stdout",
     "output_type": "stream",
     "text": [
      "Epoch 1/10\n",
      "60000/60000 [==============================] - 20s 341us/step - loss: 7.3391 - acc: 0.5355\n",
      "Epoch 2/10\n",
      "60000/60000 [==============================] - 18s 299us/step - loss: 3.9811 - acc: 0.7457\n",
      "Epoch 3/10\n",
      "60000/60000 [==============================] - 21s 352us/step - loss: 3.3278 - acc: 0.7882\n",
      "Epoch 4/10\n",
      "60000/60000 [==============================] - 24s 393us/step - loss: 3.0597 - acc: 0.8056\n",
      "Epoch 5/10\n",
      "60000/60000 [==============================] - 24s 401us/step - loss: 2.8887 - acc: 0.8163\n",
      "Epoch 6/10\n",
      "60000/60000 [==============================] - 18s 305us/step - loss: 2.7902 - acc: 0.8233\n",
      "Epoch 7/10\n",
      "60000/60000 [==============================] - 18s 301us/step - loss: 2.6816 - acc: 0.8301\n",
      "Epoch 8/10\n",
      "60000/60000 [==============================] - 18s 296us/step - loss: 2.5739 - acc: 0.8368\n",
      "Epoch 9/10\n",
      "60000/60000 [==============================] - 19s 316us/step - loss: 2.5027 - acc: 0.8414\n",
      "Epoch 10/10\n",
      "60000/60000 [==============================] - 18s 305us/step - loss: 2.4603 - acc: 0.8441\n",
      "10000/10000 [==============================] - 2s 186us/step\n"
     ]
    },
    {
     "data": {
      "text/plain": [
       "0.0"
      ]
     },
     "execution_count": 47,
     "metadata": {},
     "output_type": "execute_result"
    }
   ],
   "source": [
    "# 2. See if the adversarial example useful in different model.\n",
    "\n",
    "# Same model with random initial weight\n",
    "# Analyst: The miss classfify rate is 0, however the overall accuracy is not so high as original one.\n",
    "model2 = tf.keras.models.Sequential([\n",
    "  tf.keras.layers.Flatten(),\n",
    "  tf.keras.layers.Dense(512, activation=tf.nn.relu,kernel_initializer='random_normal',bias_initializer='random_normal'),\n",
    "  tf.keras.layers.Dropout(0.2),\n",
    "  tf.keras.layers.Dense(10, activation=tf.nn.softmax,kernel_initializer='random_normal',bias_initializer='random_normal')\n",
    "])\n",
    "model2.compile(optimizer='adam',\n",
    "              loss='sparse_categorical_crossentropy',\n",
    "              metrics=['accuracy'])\n",
    "\n",
    "model2.fit(x_train, y_train, epochs=10)\n",
    "model2.evaluate(x_test, y_test)\n",
    "sum(np.argmax(model2.predict(adv_image),1)==6)/10"
   ]
  },
  {
   "cell_type": "code",
   "execution_count": 48,
   "metadata": {},
   "outputs": [
    {
     "name": "stdout",
     "output_type": "stream",
     "text": [
      "Epoch 1/5\n",
      "60000/60000 [==============================] - 25s 418us/step - loss: 0.1996 - acc: 0.9400\n",
      "Epoch 2/5\n",
      "60000/60000 [==============================] - 21s 342us/step - loss: 0.0847 - acc: 0.9741\n",
      "Epoch 3/5\n",
      "60000/60000 [==============================] - 24s 397us/step - loss: 0.0606 - acc: 0.9805\n",
      "Epoch 4/5\n",
      "60000/60000 [==============================] - 21s 348us/step - loss: 0.0462 - acc: 0.9856\n",
      "Epoch 5/5\n",
      "60000/60000 [==============================] - 21s 348us/step - loss: 0.0378 - acc: 0.9881\n",
      "10000/10000 [==============================] - 2s 169us/step\n"
     ]
    },
    {
     "data": {
      "text/plain": [
       "0.8"
      ]
     },
     "execution_count": 48,
     "metadata": {},
     "output_type": "execute_result"
    }
   ],
   "source": [
    "# model with similiar structure\n",
    "model3 = tf.keras.models.Sequential([\n",
    "  tf.keras.layers.Flatten(),\n",
    "  tf.keras.layers.Dense(512, activation=tf.nn.relu),\n",
    "  tf.keras.layers.Dense(256, activation=tf.nn.relu),\n",
    "  tf.keras.layers.Dropout(0.2),\n",
    "  tf.keras.layers.Dense(10, activation=tf.nn.softmax)\n",
    "])\n",
    "model3.compile(optimizer='adam',\n",
    "              loss='sparse_categorical_crossentropy',\n",
    "              metrics=['accuracy'])\n",
    "\n",
    "model3.fit(x_train, y_train, epochs=5)\n",
    "model3.evaluate(x_test, y_test)\n",
    "sum(np.argmax(model3.predict(adv_image),1)==6)/10"
   ]
  },
  {
   "cell_type": "code",
   "execution_count": 45,
   "metadata": {},
   "outputs": [
    {
     "name": "stdout",
     "output_type": "stream",
     "text": [
      "Epoch 1/5\n",
      "60000/60000 [==============================] - 19s 321us/step - loss: 0.3286 - acc: 0.8982\n",
      "Epoch 2/5\n",
      "60000/60000 [==============================] - 18s 304us/step - loss: 0.1756 - acc: 0.9449\n",
      "Epoch 3/5\n",
      "60000/60000 [==============================] - 18s 305us/step - loss: 0.1445 - acc: 0.9538\n",
      "Epoch 4/5\n",
      "60000/60000 [==============================] - 18s 305us/step - loss: 0.1264 - acc: 0.9602\n",
      "Epoch 5/5\n",
      "60000/60000 [==============================] - 19s 317us/step - loss: 0.1163 - acc: 0.9633\n",
      "10000/10000 [==============================] - 1s 115us/step\n"
     ]
    },
    {
     "data": {
      "text/plain": [
       "0.1"
      ]
     },
     "execution_count": 45,
     "metadata": {},
     "output_type": "execute_result"
    }
   ],
   "source": [
    "# Add a Gaussian Noise to input image\n",
    "# Analyst: Add Gaussian Noise is a good way to deal with adversarial examples\n",
    "model4 = tf.keras.models.Sequential([\n",
    "  tf.keras.layers.Flatten(),\n",
    "  tf.keras.layers.GaussianNoise(0.3),\n",
    "  tf.keras.layers.Dense(512, activation=tf.nn.relu),\n",
    "  tf.keras.layers.Dropout(0.2),\n",
    "  tf.keras.layers.Dense(10, activation=tf.nn.softmax)\n",
    "])\n",
    "model4.compile(optimizer='adam',\n",
    "              loss='sparse_categorical_crossentropy',\n",
    "              metrics=['accuracy'])\n",
    "\n",
    "model4.fit(x_train, y_train, epochs=5)\n",
    "model4.evaluate(x_test, y_test)\n",
    "sum(np.argmax(model4.predict(adv_image),1)==6)/10"
   ]
  },
  {
   "cell_type": "code",
   "execution_count": 70,
   "metadata": {},
   "outputs": [
    {
     "name": "stdout",
     "output_type": "stream",
     "text": [
      "Epoch 1/5\n",
      "36000/36000 [==============================] - 14s 392us/step - loss: 0.2623 - acc: 0.9229\n",
      "Epoch 2/5\n",
      "36000/36000 [==============================] - 11s 301us/step - loss: 0.1081 - acc: 0.9678\n",
      "Epoch 3/5\n",
      "36000/36000 [==============================] - 11s 300us/step - loss: 0.0676 - acc: 0.9787\n",
      "Epoch 4/5\n",
      "36000/36000 [==============================] - 11s 311us/step - loss: 0.0478 - acc: 0.9855\n",
      "Epoch 5/5\n",
      "36000/36000 [==============================] - 11s 311us/step - loss: 0.0367 - acc: 0.9884\n",
      "10000/10000 [==============================] - 2s 169us/step\n",
      "Epoch 1/5\n",
      "36000/36000 [==============================] - 14s 383us/step - loss: 0.2620 - acc: 0.9237\n",
      "Epoch 2/5\n",
      "36000/36000 [==============================] - 13s 358us/step - loss: 0.1076 - acc: 0.9685\n",
      "Epoch 3/5\n",
      "36000/36000 [==============================] - 11s 316us/step - loss: 0.0693 - acc: 0.9800\n",
      "Epoch 4/5\n",
      "36000/36000 [==============================] - 12s 337us/step - loss: 0.0479 - acc: 0.9862\n",
      "Epoch 5/5\n",
      "36000/36000 [==============================] - 12s 323us/step - loss: 0.0373 - acc: 0.9888\n",
      "10000/10000 [==============================] - 2s 178us/step\n",
      "Epoch 1/5\n",
      "36000/36000 [==============================] - 14s 388us/step - loss: 0.2614 - acc: 0.9218\n",
      "Epoch 2/5\n",
      "36000/36000 [==============================] - 12s 328us/step - loss: 0.1048 - acc: 0.9684\n",
      "Epoch 3/5\n",
      "36000/36000 [==============================] - 12s 322us/step - loss: 0.0659 - acc: 0.9798\n",
      "Epoch 4/5\n",
      "36000/36000 [==============================] - 12s 326us/step - loss: 0.0479 - acc: 0.9842\n",
      "Epoch 5/5\n",
      "36000/36000 [==============================] - 12s 321us/step - loss: 0.0369 - acc: 0.9887\n",
      "10000/10000 [==============================] - 2s 159us/step\n",
      "Epoch 1/5\n",
      "36000/36000 [==============================] - 14s 400us/step - loss: 0.2696 - acc: 0.9209\n",
      "Epoch 2/5\n",
      "36000/36000 [==============================] - 12s 322us/step - loss: 0.1112 - acc: 0.9677\n",
      "Epoch 3/5\n",
      "36000/36000 [==============================] - 12s 339us/step - loss: 0.0717 - acc: 0.9781\n",
      "Epoch 4/5\n",
      "36000/36000 [==============================] - 12s 321us/step - loss: 0.0502 - acc: 0.9845\n",
      "Epoch 5/5\n",
      "36000/36000 [==============================] - 11s 318us/step - loss: 0.0375 - acc: 0.9887\n",
      "10000/10000 [==============================] - 2s 193us/step\n",
      "Epoch 1/5\n",
      "36000/36000 [==============================] - 14s 390us/step - loss: 0.2649 - acc: 0.9218\n",
      "Epoch 2/5\n",
      "36000/36000 [==============================] - 11s 315us/step - loss: 0.1064 - acc: 0.9681\n",
      "Epoch 3/5\n",
      "36000/36000 [==============================] - 11s 318us/step - loss: 0.0689 - acc: 0.9786\n",
      "Epoch 4/5\n",
      "36000/36000 [==============================] - 11s 316us/step - loss: 0.0485 - acc: 0.9846\n",
      "Epoch 5/5\n",
      "36000/36000 [==============================] - 11s 316us/step - loss: 0.0385 - acc: 0.9883\n",
      "10000/10000 [==============================] - 2s 176us/step\n"
     ]
    }
   ],
   "source": [
    "# Bagging, 5 same models trained with different subset of training data\n",
    "model5 = []\n",
    "for i in range(5):\n",
    "    model5.append(tf.keras.models.Sequential([\n",
    "      tf.keras.layers.Flatten(),\n",
    "      tf.keras.layers.Dense(512, activation=tf.nn.relu),\n",
    "      tf.keras.layers.Dropout(0.2),\n",
    "      tf.keras.layers.Dense(10, activation=tf.nn.softmax)\n",
    "    ]))\n",
    "    model5[i].compile(optimizer='adam',\n",
    "                  loss='sparse_categorical_crossentropy',\n",
    "                  metrics=['accuracy'])\n",
    "    \n",
    "    bag_index=np.random.choice(60000,36000)\n",
    "    model5[i].fit(x_train[bag_index], y_train[bag_index], epochs=5)\n",
    "    model5[i].evaluate(x_test, y_test)"
   ]
  },
  {
   "cell_type": "code",
   "execution_count": 71,
   "metadata": {},
   "outputs": [
    {
     "data": {
      "text/plain": [
       "[array([6, 6, 6, 6, 2, 6, 6, 6, 2, 6]),\n",
       " array([6, 6, 6, 6, 2, 6, 6, 6, 2, 6]),\n",
       " array([6, 6, 6, 6, 2, 6, 6, 6, 2, 6]),\n",
       " array([6, 6, 6, 6, 2, 6, 6, 6, 2, 6]),\n",
       " array([6, 6, 6, 6, 2, 6, 6, 6, 2, 6])]"
      ]
     },
     "execution_count": 71,
     "metadata": {},
     "output_type": "execute_result"
    }
   ],
   "source": [
    "# All the sub_model give the same results with the adversarial examples, which is quite funy.\n",
    "result=[]\n",
    "for i in range(5):\n",
    "    result.append(np.argmax(model5[i].predict(adv_image),1))\n",
    "result"
   ]
  }
 ],
 "metadata": {
  "kernelspec": {
   "display_name": "Python 3",
   "language": "python",
   "name": "python3"
  },
  "language_info": {
   "codemirror_mode": {
    "name": "ipython",
    "version": 3
   },
   "file_extension": ".py",
   "mimetype": "text/x-python",
   "name": "python",
   "nbconvert_exporter": "python",
   "pygments_lexer": "ipython3",
   "version": "3.6.5"
  }
 },
 "nbformat": 4,
 "nbformat_minor": 2
}
